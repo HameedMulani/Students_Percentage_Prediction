{
  "nbformat": 4,
  "nbformat_minor": 0,
  "metadata": {
    "colab": {
      "provenance": [],
      "authorship_tag": "ABX9TyPWLIFIIJrvFa8XkRPXBtwr",
      "include_colab_link": true
    },
    "kernelspec": {
      "name": "python3",
      "display_name": "Python 3"
    },
    "language_info": {
      "name": "python"
    }
  },
  "cells": [
    {
      "cell_type": "markdown",
      "metadata": {
        "id": "view-in-github",
        "colab_type": "text"
      },
      "source": [
        "<a href=\"https://colab.research.google.com/github/HameedMulani/Students_Percentage_Prediction/blob/main/Result_Predicted.ipynb\" target=\"_parent\"><img src=\"https://colab.research.google.com/assets/colab-badge.svg\" alt=\"Open In Colab\"/></a>"
      ]
    },
    {
      "cell_type": "markdown",
      "source": [
        "# Predicted percentage of 9.25 hours: *`[93.69173249]`*"
      ],
      "metadata": {
        "id": "y0KsV6SMkWoP"
      }
    },
    {
      "cell_type": "markdown",
      "source": [
        "# Mean Absolute Error: **`4.183859899002982`**\n",
        "# Mean Squared Error: **`21.598769307217456`**"
      ],
      "metadata": {
        "id": "ciI6ntK-kKDh"
      }
    }
  ]
}